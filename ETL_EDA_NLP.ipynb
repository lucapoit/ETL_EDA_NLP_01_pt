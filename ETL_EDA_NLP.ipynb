{
 "cells": [
  {
   "cell_type": "markdown",
   "metadata": {},
   "source": [
    "## ETL e seus desafios \n",
    "#### Hands on 4\n",
    "Luca Mantovani Poit\n",
    "\n",
    "\n",
    "<img src=\"azure.png\" alt=\"drawing\" width=\"200\"/>"
   ]
  },
  {
   "cell_type": "markdown",
   "metadata": {},
   "source": [
    "Importando o necessário"
   ]
  },
  {
   "cell_type": "code",
   "execution_count": 2,
   "metadata": {},
   "outputs": [],
   "source": [
    "import pandas as pd\n",
    "from sqlalchemy import create_engine\n",
    "from sqlalchemy import text\n",
    "import pyodbc\n",
    "from io import BytesIO\n",
    "import os\n",
    "import json\n"
   ]
  },
  {
   "cell_type": "code",
   "execution_count": null,
   "metadata": {},
   "outputs": [],
   "source": [
    "# importando para fazer a conexão com blob storage \n",
    "from azure.identity import DefaultAzureCredential\n",
    "from azure.storage.blob import BlobServiceClient\n",
    "from azure.keyvault.secrets import SecretClient"
   ]
  },
  {
   "cell_type": "markdown",
   "metadata": {},
   "source": [
    "Fazendo a conexão com a Azure usando as credenciais guardadas no key vault"
   ]
  },
  {
   "cell_type": "code",
   "execution_count": 3,
   "metadata": {},
   "outputs": [],
   "source": [
    "KEY_VAULT_URL = \"https://kv-academy-01.vault.azure.net/\"\n",
    "credential = DefaultAzureCredential()\n",
    "client = SecretClient(vault_url=KEY_VAULT_URL, credential=credential)\n",
    "\n",
    "#nome do segredo que queremos pegar\n",
    "secret_blob_name = 'stg-academy-nome'\n",
    "\n",
    "#pegando o segredo correspodente\n",
    "retrieved_blob_secret = client.get_secret(secret_blob_name)"
   ]
  },
  {
   "cell_type": "code",
   "execution_count": 4,
   "metadata": {},
   "outputs": [],
   "source": [
    "#Guardando todas as credenciais necessárias para montar os links de acesso no futuro\n",
    "SERVER = client.get_secret(\"db-academy-server\")\n",
    "DATABASE = client.get_secret(\"db-academy-database\")\n",
    "USERNAME = client.get_secret(\"db-academy-user\")\n",
    "PASSWORD = client.get_secret(\"db-academy-password\")\n",
    "DRIVER='ODBC Driver 18 for SQL Server'"
   ]
  },
  {
   "cell_type": "code",
   "execution_count": 5,
   "metadata": {},
   "outputs": [
    {
     "name": "stdout",
     "output_type": "stream",
     "text": [
      "academy-teste\n",
      "azure-webjobs-hosts\n",
      "azure-webjobs-secrets\n",
      "yelpinc\n"
     ]
    }
   ],
   "source": [
    "#função da documentação\n",
    "def get_blob_service_client_token_credential():\n",
    "    \n",
    "    #montando a url usando o segredo, note o .value para pegar o valor e nao o objeto\n",
    "    account_url = \"https://\" + retrieved_blob_secret.value + \".blob.core.windows.net\"\n",
    "\n",
    "    #validando a credencial\n",
    "    credential = DefaultAzureCredential()\n",
    "\n",
    "    #Criando o objeto BlobServiceClient\n",
    "    blob_service_client = BlobServiceClient(account_url, credential=credential)\n",
    "\n",
    "    #retornando o objeto\n",
    "    return blob_service_client\n",
    "\n",
    "\n",
    "#instanciando um objeto usando a função\n",
    "blob_service_client = get_blob_service_client_token_credential()\n",
    "\n",
    "#uma ação qualquer para mostrar que a conexão foi feita\n",
    "for container in blob_service_client.list_containers():\n",
    "    print(container.name)"
   ]
  },
  {
   "cell_type": "markdown",
   "metadata": {},
   "source": [
    "Acessando o container específico com os arquivos que queremos trabalhar"
   ]
  },
  {
   "cell_type": "code",
   "execution_count": 6,
   "metadata": {},
   "outputs": [],
   "source": [
    "container_name=\"yelpinc\"\n",
    "container_client = blob_service_client.get_container_client(container_name)"
   ]
  },
  {
   "cell_type": "markdown",
   "metadata": {},
   "source": [
    "Iterando para ver quais arquivos estão disponíveis"
   ]
  },
  {
   "cell_type": "code",
   "execution_count": 7,
   "metadata": {},
   "outputs": [
    {
     "name": "stdout",
     "output_type": "stream",
     "text": [
      "yelp_academic_dataset_business.json\n",
      "yelp_academic_dataset_checkin.json\n",
      "yelp_academic_dataset_review.json\n",
      "yelp_academic_dataset_tip.json\n",
      "yelp_academic_dataset_user.json\n"
     ]
    }
   ],
   "source": [
    "for blob in container_client.list_blob_names():\n",
    "    print(blob)"
   ]
  },
  {
   "cell_type": "markdown",
   "metadata": {},
   "source": [
    "Função que permite 'espiar' cada um dos arquivos para entender melhor como proceder com a execução das tarefas"
   ]
  },
  {
   "cell_type": "code",
   "execution_count": 7,
   "metadata": {},
   "outputs": [
    {
     "name": "stdout",
     "output_type": "stream",
     "text": [
      "\n",
      "\n",
      "nome do arquivo: yelp_academic_dataset_business.json\n",
      "\n",
      "\n",
      "{\"business_id\":\"Pns2l4eNsfO8kk83dixA6A\",\"name\":\"Abby Rappoport, LAC, CMQ\",\"address\":\"1616 Chapala St, Ste 2\",\"city\":\"Santa Barbara\",\"state\":\"CA\",\"postal_code\":\"93101\",\"latitude\":34.4266787,\"longitude\":-119.7111968,\"stars\":5.0,\"review_count\":7,\"is_open\":0,\"attributes\":{\"ByAppointmentOnly\":\"True\"},\"categories\":\"Doctors, Traditional Chinese Medicine, Naturopathic\\/Holistic, Acupuncture, Health & Medical, Nutritionists\",\"hours\":null}\n",
      "{\"business_id\":\"mpf3x-BjTdTEA3yCZrAYPw\",\"name\":\"The UPS Store\",\"address\":\"87 Grasso Plaza Shopping Center\",\"city\":\"Affton\",\"state\":\"MO\",\"postal_code\":\"63123\",\"latitude\":38.551126,\"longitude\":-90.335695,\"stars\":3.0,\"review_count\":15,\"is_open\":1,\"attributes\":{\"BusinessAcceptsCreditCards\":\"True\"},\"categories\":\"Shipping Centers, Local Services, Notaries, Mailbox Centers, Printing Services\",\"hours\":{\"Monday\":\"0:0-0:0\",\"Tuesday\":\"8:0-18:30\",\"Wednesday\":\"8:0-18:30\",\"Thursday\":\"8:0-18:30\",\"Friday\":\"8:0-18:30\",\"Saturday\":\"8:0-14:0\"}}\n",
      "{\"business_id\":\"tUFrWirKiKi_TAnsVWINQQ\",\"name\":\"Target\",\"ad\n",
      "\n",
      "\n",
      "nome do arquivo: yelp_academic_dataset_checkin.json\n",
      "\n",
      "\n",
      "{\"business_id\":\"---kPU91CF4Lq2-WlRu9Lw\",\"date\":\"2020-03-13 21:10:56, 2020-06-02 22:18:06, 2020-07-24 22:42:27, 2020-10-24 21:36:13, 2020-12-09 21:23:33, 2021-01-20 17:34:57, 2021-04-30 21:02:03, 2021-05-25 21:16:54, 2021-08-06 21:08:08, 2021-10-02 15:15:42, 2021-11-11 16:23:50\"}\n",
      "{\"business_id\":\"--0iUa4sNDFiZFrAdIWhZQ\",\"date\":\"2010-09-13 21:43:09, 2011-05-04 23:08:15, 2011-07-18 22:30:31, 2012-09-07 20:28:50, 2013-03-27 15:57:36, 2013-08-13 00:31:34, 2013-08-13 00:31:48, 2013-09-23 17:39:38, 2013-11-18 06:34:08, 2014-04-12 23:04:47\"}\n",
      "{\"business_id\":\"--30_8IhuyMHbSOcNWd6DQ\",\"date\":\"2013-06-14 23:29:17, 2014-08-13 23:20:22\"}\n",
      "{\"business_id\":\"--7PUidqRWpRSpXebiyxTg\",\"date\":\"2011-02-15 17:12:00, 2011-07-28 02:46:10, 2012-03-11 10:30:02, 2012-04-24 07:07:59, 2012-04-24 07:43:31, 2013-05-25 16:41:10, 2014-05-02 15:49:55, 2014-09-18 02:28:23, 2014-11-10 15:16:43, 2015-09-27 13:18:32\"}\n",
      "{\"business_id\":\"--7jw19RH9JKXgFohspgQw\",\"date\":\"2014-04-21 20:42:11, 2014-04-28 21:04:46, 2014-09-30 14:41:47, 2014-10-23 18:22:28, 201\n",
      "\n",
      "\n",
      "nome do arquivo: yelp_academic_dataset_review.json\n",
      "\n",
      "\n",
      "{\"review_id\":\"KU_O5udG6zpxOg-VcAEodg\",\"user_id\":\"mh_-eMZ6K5RLWhZyISBhwA\",\"business_id\":\"XQfwVwDr-v0ZS3_CbbE5Xw\",\"stars\":3.0,\"useful\":0,\"funny\":0,\"cool\":0,\"text\":\"If you decide to eat here, just be aware it is going to take about 2 hours from beginning to end. We have tried it multiple times, because I want to like it! I have been to it's other locations in NJ and never had a bad experience. \\n\\nThe food is good, but it takes a very long time to come out. The waitstaff is very young, but usually pleasant. We have just had too many experiences where we spent way too long waiting. We usually opt for another diner or restaurant on the weekends, in order to be done quicker.\",\"date\":\"2018-07-07 22:09:11\"}\n",
      "{\"review_id\":\"BiTunyQ73aT9WBnpR9DZGw\",\"user_id\":\"OyoGAe7OKpv6SyGZT5g77Q\",\"business_id\":\"7ATYjTIgM3jUlt4UM3IypQ\",\"stars\":5.0,\"useful\":1,\"funny\":0,\"cool\":1,\"text\":\"I've taken a lot of spin classes over the years, and nothing compares to the classes at Body Cycle. From the nice, clean space and amazing bikes, to the \n",
      "\n",
      "\n",
      "nome do arquivo: yelp_academic_dataset_tip.json\n",
      "\n",
      "\n",
      "{\"user_id\":\"AGNUgVwnZUey3gcPCJ76iw\",\"business_id\":\"3uLgwr0qeCNMjKenHJwPGQ\",\"text\":\"Avengers time with the ladies.\",\"date\":\"2012-05-18 02:17:21\",\"compliment_count\":0}\n",
      "{\"user_id\":\"NBN4MgHP9D3cw--SnauTkA\",\"business_id\":\"QoezRbYQncpRqyrLH6Iqjg\",\"text\":\"They have lots of good deserts and tasty cuban sandwiches\",\"date\":\"2013-02-05 18:35:10\",\"compliment_count\":0}\n",
      "{\"user_id\":\"-copOvldyKh1qr-vzkDEvw\",\"business_id\":\"MYoRNLb5chwjQe3c_k37Gg\",\"text\":\"It's open even when you think it isn't\",\"date\":\"2013-08-18 00:56:08\",\"compliment_count\":0}\n",
      "{\"user_id\":\"FjMQVZjSqY8syIO-53KFKw\",\"business_id\":\"hV-bABTK-glh5wj31ps_Jw\",\"text\":\"Very decent fried chicken\",\"date\":\"2017-06-27 23:05:38\",\"compliment_count\":0}\n",
      "{\"user_id\":\"ld0AperBXk1h6UbqmM80zw\",\"business_id\":\"_uN0OudeJ3Zl_tf6nxg5ww\",\"text\":\"Appetizers.. platter special for lunch\",\"date\":\"2012-10-06 19:43:09\",\"compliment_count\":0}\n",
      "{\"user_id\":\"trf3Qcz8qvCDKXiTgjUcEg\",\"business_id\":\"7Rm9Ba50bw23KTA8RedZYg\",\"text\":\"Chili Cup + Single Cheeseburger with onion, pickle, and relish + Vanilla \n",
      "\n",
      "\n",
      "nome do arquivo: yelp_academic_dataset_user.json\n",
      "\n",
      "\n",
      "{\"user_id\":\"qVc8ODYU5SZjKXVBgXdI7w\",\"name\":\"Walker\",\"review_count\":585,\"yelping_since\":\"2007-01-25 16:47:26\",\"useful\":7217,\"funny\":1259,\"cool\":5994,\"elite\":\"2007\",\"friends\":\"NSCy54eWehBJyZdG2iE84w, pe42u7DcCH2QmI81NX-8qA, EjlCGf14tYMPJ0rsrL703w, 7OagHIAKx2Rm9z3CQ0OmvA, uZoFvKs0dahfffIqHQf1eA, TW7-U8Y_SYsAX91Ol5LlfA, 6EDA76lfkaTyOeuxkg0Fmw, MsTKApUX1VF2Mv9jpUIG5g, Rq4TAwX8vj0Ccc3Pt0mJ5g, P77zKKIP9xyakKLRutvdAQ, pOqaU6X1xyWUoYJJdoqbBw, 1aU0r7X2luo9P8hfSpq6ng, 7XDyuBY0mhLsaGqjquh8rw, KrnJZsROH6jsiCN_RHG_8Q, 48zQrAJNOqcKJJgqU5WzbQ, 48wN4GpyJ7hPy4uuwpGFmw, z8zzFMKCnavBY5_-_vzi9w, BemKKkZBBmu9GupEwKBj9g, vVS0rY7uZ2UZ6bdsDzSPIQ, hc6-o0VhNPw3qR3Pv7Knmg, 2AOUvDvG7rvAX1hLI5QZKA, dKzMVnYh_tvIQbDm6pTlRA, ACHQbmN7OMTY6PFz5Sl4_g, 8hqS8Wul46dt370JVRA83Q, TMLVzNYs-zwwREudyvI08A, 36LgEtwt6ROhrCtuPjfRmQ, -f6amuvfIVS7VX65BqZ6pQ, kCjFwGXHxUTaJ23p70j86w, d9J7e2uo-a0S0XMuw1CS-A, dbrGVOcscXUQjQGi_0bnaQ, a_luWCTl-TLAgvsgfn8dfw, -cnGMlaftdo8HGVrQwKE3Q, p2ww1kRTv0z9dT3gZYcDkg, 3gE3_MDUsCg-Tay4t1R5nA, uJ2LwqzRgBf_klkVaXh4Ig, T_7gdLtmEv\n"
     ]
    }
   ],
   "source": [
    "for blob in container_client.list_blob_names():\n",
    "\n",
    "    filename = blob\n",
    "    blob_client = container_client.get_blob_client(filename)\n",
    "\n",
    "    print(f'\\n\\nnome do arquivo: {blob}\\n\\n')\n",
    "\n",
    "    snippet_size=1024\n",
    "\n",
    "    blob_data = blob_client.download_blob(0, snippet_size)\n",
    "    snippet = blob_data.readall().decode('utf-8')\n",
    "    snippet = json.loads(json.dumps(snippet))\n",
    "    print(snippet)"
   ]
  },
  {
   "cell_type": "markdown",
   "metadata": {},
   "source": [
    "#### Aqui vamos popular uma tabela sem salvar o arquivo localmente"
   ]
  },
  {
   "cell_type": "markdown",
   "metadata": {},
   "source": [
    "Um dos arquivos que queremos usar para popular a tabela é muito grande (>5gb). Para continuarmos, usamos o método chunks, que nos permite acessar pedaços da tabela e realizar operações nesses pedaços ao invés de acessar e transformar a tabela toda de uma vez. "
   ]
  },
  {
   "cell_type": "code",
   "execution_count": 8,
   "metadata": {},
   "outputs": [],
   "source": [
    "def populate_table(engine, stream_downloader, table_name):\n",
    "    # buffer para armazenar a parte do arquivo que estamos lendo, será esvaziado cada vez que subirmos seu conteúdo para a tabela\n",
    "    buffer = \"\"\n",
    "\n",
    "    for chunk in stream_downloader.chunks():\n",
    "        # Converte os chunks de bytes para string\n",
    "        buffer += chunk.decode('utf-8', errors='ignore')\n",
    "\n",
    "        # Usa a função split_lines para que cada linha seja um elemento da lista. Isso garante uma maneira para testar se temos\n",
    "        # um JSON valido para subir para a tabela\n",
    "        lines = buffer.splitlines()\n",
    "\n",
    "        complete_lines = []\n",
    "        \n",
    "        for line in lines:\n",
    "            try:\n",
    "                # Verifica se a linha é um JSON válido\n",
    "                json.loads(line)  \n",
    "                complete_lines.append(line)  # Se sim, append na lista de linhas completas\n",
    "            except json.JSONDecodeError:\n",
    "                # Se não, deixa a linha no buffer e sai do bloco for\n",
    "                buffer = line  \n",
    "                break\n",
    "        else:\n",
    "            # Se todas as linhas forem completas, limpa o buffer\n",
    "            buffer = \"\"\n",
    "\n",
    "        if complete_lines:\n",
    "            # Se tem linhas completas na nossa lista, join e passa para o pandas, para processar e popular a tabela com a estrutura de colunas correta\n",
    "            complete_json = '\\n'.join(complete_lines)\n",
    "            try:\n",
    "                data_chunk = pd.read_json(BytesIO(complete_json.encode('utf-8')), lines=True)\n",
    "                data_chunk.to_sql(table_name, con=engine, if_exists='append', index=False)\n",
    "            except ValueError as e:\n",
    "                print(\"Error parsing JSON with pandas:\", e)\n",
    "\n"
   ]
  },
  {
   "cell_type": "code",
   "execution_count": 9,
   "metadata": {},
   "outputs": [],
   "source": [
    "connection_string = f'mssql+pyodbc://{USERNAME.value}:{PASSWORD.value}@{SERVER.value}/{DATABASE.value}?driver={DRIVER}'\n",
    "engine = create_engine(connection_string)"
   ]
  },
  {
   "cell_type": "code",
   "execution_count": 17,
   "metadata": {},
   "outputs": [],
   "source": [
    "blob_client = container_client.get_blob_client('yelp_academic_dataset_checkin.json')\n",
    "#Fazer o download (o arquivo não fica salvo na máquina quando a sessão termina)\n",
    "stream_downloader = blob_client.download_blob()\n",
    "\n",
    "populate_table(engine, stream_downloader, 'luca_poit_checkin')"
   ]
  },
  {
   "cell_type": "code",
   "execution_count": null,
   "metadata": {},
   "outputs": [],
   "source": [
    "blob_client = container_client.get_blob_client('yelp_academic_dataset_review.json')\n",
    "stream_downloader = blob_client.download_blob()\n",
    "\n",
    "populate_table(engine, stream_downloader, 'luca_poit_review')"
   ]
  },
  {
   "cell_type": "code",
   "execution_count": null,
   "metadata": {},
   "outputs": [],
   "source": [
    "blob_client = container_client.get_blob_client('yelp_academic_dataset_user.json')\n",
    "stream_downloader = blob_client.download_blob()\n",
    "\n",
    "populate_table(engine, stream_downloader, 'luca_poit_user')"
   ]
  },
  {
   "cell_type": "code",
   "execution_count": null,
   "metadata": {},
   "outputs": [],
   "source": [
    "# para a tabela business, um tratamento especial foi necessário, graças a presença de dicionários como valores \n",
    "blob_client = container_client.get_blob_client('yelp_academic_dataset_business.json')\n",
    "stream_downloader = blob_client.download_blob()\n",
    "\n",
    "df = pd.read_json(stream_downloader, lines=True)\n",
    "\n",
    "#usando a função json.dumps para que os dicionários sejam transformados em strings\n",
    "df['attributes'] = df['attributes'].apply(json.dumps)\n",
    "df['hours'] = df['hours'].apply(lambda x: json.dumps(x) if not None else None)\n",
    "\n",
    "df.to_sql('luca_poit_business', con=engine, if_exists='append', index=False)"
   ]
  },
  {
   "cell_type": "markdown",
   "metadata": {},
   "source": [
    "#### Populando uma tabela através de um arquivo baixado:"
   ]
  },
  {
   "cell_type": "code",
   "execution_count": 18,
   "metadata": {},
   "outputs": [],
   "source": [
    "# acessando o arquivo local\n",
    "filepath = 'C:\\\\Users\\\\BlueShift\\\\Desktop\\\\Eng Dados\\\\Hands_on_4\\\\yelp_academic_dataset_tip.json'"
   ]
  },
  {
   "cell_type": "code",
   "execution_count": 10,
   "metadata": {},
   "outputs": [
    {
     "data": {
      "text/plain": [
       "<pyodbc.Connection at 0x1d4e3a802a0>"
      ]
     },
     "execution_count": 10,
     "metadata": {},
     "output_type": "execute_result"
    }
   ],
   "source": [
    "# Criando uma conexão com a database usando o pyodbc\n",
    "connectionString = f'DRIVER={{ODBC Driver 18 for SQL Server}};SERVER={SERVER.value};DATABASE={DATABASE.value};UID={USERNAME.value};PWD={PASSWORD.value}'\n",
    "conn = pyodbc.connect(connectionString) \n",
    "conn"
   ]
  },
  {
   "cell_type": "markdown",
   "metadata": {},
   "source": [
    "Podemos executar queries SQL usando a conexão pyodbc"
   ]
  },
  {
   "cell_type": "code",
   "execution_count": 20,
   "metadata": {},
   "outputs": [],
   "source": [
    "SQL_QUERY = \"\"\"\n",
    "CREATE TABLE luca_poit_tip (\n",
    "    user_id VARCHAR(50) NOT NULL,\n",
    "    business_id VARCHAR(50) NOT NULL,\n",
    "    text VARCHAR(MAX) NULL,\n",
    "    date DATETIME NULL,\n",
    "    compliment_count INT NULL\n",
    ");\n",
    "\n",
    "\"\"\""
   ]
  },
  {
   "cell_type": "code",
   "execution_count": 21,
   "metadata": {},
   "outputs": [
    {
     "data": {
      "text/plain": [
       "<pyodbc.Cursor at 0x25fc4e6f0b0>"
      ]
     },
     "execution_count": 21,
     "metadata": {},
     "output_type": "execute_result"
    }
   ],
   "source": [
    "cursor = conn.cursor()\n",
    "cursor.execute(SQL_QUERY)"
   ]
  },
  {
   "cell_type": "markdown",
   "metadata": {},
   "source": [
    "Lendo o JSON com pandas"
   ]
  },
  {
   "cell_type": "code",
   "execution_count": 23,
   "metadata": {},
   "outputs": [],
   "source": [
    "df = pd.read_json(filepath, lines=True)"
   ]
  },
  {
   "cell_type": "code",
   "execution_count": null,
   "metadata": {},
   "outputs": [],
   "source": [
    "connection_string = f'mssql+pyodbc://{USERNAME.value}:{PASSWORD.value}@{SERVER.value}/{DATABASE.value}?driver={DRIVER}'\n",
    "engine = create_engine(connection_string)\n",
    "\n",
    "\n",
    "#subindo as colunas direto para a tabela no DB\n",
    "df.to_sql('luca_poit_tip', con=engine, if_exists='append', index=False)"
   ]
  },
  {
   "cell_type": "code",
   "execution_count": 20,
   "metadata": {},
   "outputs": [
    {
     "name": "stdout",
     "output_type": "stream",
     "text": [
      "('AGNUgVwnZUey3gcPCJ76iw', '3uLgwr0qeCNMjKenHJwPGQ', 'Avengers time with the ladies.', datetime.datetime(2012, 5, 18, 2, 17, 21), 0)\n",
      "('NBN4MgHP9D3cw--SnauTkA', 'QoezRbYQncpRqyrLH6Iqjg', 'They have lots of good deserts and tasty cuban sandwiches', datetime.datetime(2013, 2, 5, 18, 35, 10), 0)\n",
      "('-copOvldyKh1qr-vzkDEvw', 'MYoRNLb5chwjQe3c_k37Gg', \"It's open even when you think it isn't\", datetime.datetime(2013, 8, 18, 0, 56, 8), 0)\n",
      "('FjMQVZjSqY8syIO-53KFKw', 'hV-bABTK-glh5wj31ps_Jw', 'Very decent fried chicken', datetime.datetime(2017, 6, 27, 23, 5, 38), 0)\n",
      "('ld0AperBXk1h6UbqmM80zw', '_uN0OudeJ3Zl_tf6nxg5ww', 'Appetizers.. platter special for lunch', datetime.datetime(2012, 10, 6, 19, 43, 9), 0)\n"
     ]
    }
   ],
   "source": [
    "# testando a conexão\n",
    "with engine.connect() as connection:\n",
    "    result = connection.execute(text(\"SELECT TOP 5 * FROM luca_poit_tip;\"))\n",
    "    for row in result:\n",
    "        print(row)"
   ]
  },
  {
   "cell_type": "markdown",
   "metadata": {},
   "source": [
    "## Fazendo análises com tabelas disponíveis no banco de dados"
   ]
  },
  {
   "cell_type": "markdown",
   "metadata": {},
   "source": [
    "Para distribuir o uso de recursos da Azure e evitar crashs desnecessários, fiz as análises com tabelas que já estavam disponíveis no db. As minhas estão subindo depois da entrega do notebook"
   ]
  },
  {
   "cell_type": "code",
   "execution_count": 12,
   "metadata": {},
   "outputs": [],
   "source": [
    "import seaborn as sns\n",
    "import matplotlib.pyplot as plt"
   ]
  },
  {
   "cell_type": "code",
   "execution_count": 8,
   "metadata": {},
   "outputs": [],
   "source": [
    "cursor = conn.cursor()\n",
    "\n",
    "query = '''\n",
    "SELECT TOP 10 COUNT(*) AS review_count, name FROM jonnathan_costa_review jcr \n",
    "LEFT JOIN jonnathan_costa_business jcb \n",
    "ON jcr.business_id = jcb.business_id \n",
    "GROUP BY jcb.name ORDER BY review_count DESC;\n",
    "\n",
    "'''\n",
    "# Executa a query\n",
    "cursor.execute(query)\n",
    "\n",
    "# Busca os resultados da query\n",
    "rows = cursor.fetchall()\n",
    "\n",
    "# pega o nome das colunas\n",
    "columns = [column[0] for column in cursor.description]\n",
    "\n",
    "# Converte os resultados para um DataFrame\n",
    "top_10_most_reviewed = pd.DataFrame.from_records(rows, columns=columns)"
   ]
  },
  {
   "cell_type": "markdown",
   "metadata": {},
   "source": [
    "#### Agrupando os reviews por empresa\n",
    "\n",
    "Ao agrupar os reviews por empresa, conseguimos obter as top 10 empresas mais avaliadas. Segue de uma análise do arquivo, que uma mesma empresa pode ter diversos business_ID, provavelmente graças a presença de empresas grandes com varias franquias."
   ]
  },
  {
   "cell_type": "code",
   "execution_count": 9,
   "metadata": {},
   "outputs": [
    {
     "data": {
      "text/html": [
       "<div>\n",
       "<style scoped>\n",
       "    .dataframe tbody tr th:only-of-type {\n",
       "        vertical-align: middle;\n",
       "    }\n",
       "\n",
       "    .dataframe tbody tr th {\n",
       "        vertical-align: top;\n",
       "    }\n",
       "\n",
       "    .dataframe thead th {\n",
       "        text-align: right;\n",
       "    }\n",
       "</style>\n",
       "<table border=\"1\" class=\"dataframe\">\n",
       "  <thead>\n",
       "    <tr style=\"text-align: right;\">\n",
       "      <th></th>\n",
       "      <th>review_count</th>\n",
       "      <th>name</th>\n",
       "    </tr>\n",
       "  </thead>\n",
       "  <tbody>\n",
       "    <tr>\n",
       "      <th>0</th>\n",
       "      <td>21615</td>\n",
       "      <td>Starbucks</td>\n",
       "    </tr>\n",
       "    <tr>\n",
       "      <th>1</th>\n",
       "      <td>18234</td>\n",
       "      <td>McDonald's</td>\n",
       "    </tr>\n",
       "    <tr>\n",
       "      <th>2</th>\n",
       "      <td>10326</td>\n",
       "      <td>Dunkin'</td>\n",
       "    </tr>\n",
       "    <tr>\n",
       "      <th>3</th>\n",
       "      <td>9788</td>\n",
       "      <td>Chipotle Mexican Grill</td>\n",
       "    </tr>\n",
       "    <tr>\n",
       "      <th>4</th>\n",
       "      <td>9323</td>\n",
       "      <td>First Watch</td>\n",
       "    </tr>\n",
       "    <tr>\n",
       "      <th>5</th>\n",
       "      <td>8653</td>\n",
       "      <td>Taco Bell</td>\n",
       "    </tr>\n",
       "    <tr>\n",
       "      <th>6</th>\n",
       "      <td>8491</td>\n",
       "      <td>Acme Oyster House</td>\n",
       "    </tr>\n",
       "    <tr>\n",
       "      <th>7</th>\n",
       "      <td>8435</td>\n",
       "      <td>Chick-fil-A</td>\n",
       "    </tr>\n",
       "    <tr>\n",
       "      <th>8</th>\n",
       "      <td>7590</td>\n",
       "      <td>Panera Bread</td>\n",
       "    </tr>\n",
       "    <tr>\n",
       "      <th>9</th>\n",
       "      <td>7516</td>\n",
       "      <td>Oceana Grill</td>\n",
       "    </tr>\n",
       "  </tbody>\n",
       "</table>\n",
       "</div>"
      ],
      "text/plain": [
       "   review_count                    name\n",
       "0         21615               Starbucks\n",
       "1         18234              McDonald's\n",
       "2         10326                 Dunkin'\n",
       "3          9788  Chipotle Mexican Grill\n",
       "4          9323             First Watch\n",
       "5          8653               Taco Bell\n",
       "6          8491       Acme Oyster House\n",
       "7          8435             Chick-fil-A\n",
       "8          7590            Panera Bread\n",
       "9          7516            Oceana Grill"
      ]
     },
     "execution_count": 9,
     "metadata": {},
     "output_type": "execute_result"
    }
   ],
   "source": [
    "top_10_most_reviewed.head(10)"
   ]
  },
  {
   "cell_type": "code",
   "execution_count": 22,
   "metadata": {},
   "outputs": [
    {
     "data": {
      "text/plain": [
       "[None, None, None, None, None, None, None, None, None, None]"
      ]
     },
     "execution_count": 22,
     "metadata": {},
     "output_type": "execute_result"
    },
    {
     "data": {
      "image/png": "[encoded data removed]",
      "text/plain": [
       "<Figure size 1800x300 with 1 Axes>"
      ]
     },
     "metadata": {},
     "output_type": "display_data"
    }
   ],
   "source": [
    "plt.figure(figsize=(18,3))\n",
    "plot = sns.barplot(data=top_10_most_reviewed, x='name', y='review_count', hue='name', palette='flare')\n",
    "plt.title('Top 10 Mais Avaliados')\n",
    "plt.xlabel('Estabelecimentos')\n",
    "plt.ylabel('Número de Avaliações')\n",
    "plt.setp(plot.get_xticklabels(), rotation=50)"
   ]
  },
  {
   "cell_type": "markdown",
   "metadata": {},
   "source": [
    "Vemos que de fato as empresas grandes possuem mais reviews, consequência de um fluxo maior de clientes quando consideradas todas as franquias. "
   ]
  },
  {
   "cell_type": "markdown",
   "metadata": {},
   "source": [
    "### Agrupando os reviews por ano\n",
    "\n",
    "Ao agrupar os reviews por ano, obtemos uma visão da evolução temporal do número de reviews."
   ]
  },
  {
   "cell_type": "code",
   "execution_count": 14,
   "metadata": {},
   "outputs": [],
   "source": [
    "connectionString = f'DRIVER={{ODBC Driver 18 for SQL Server}};SERVER={SERVER.value};DATABASE={DATABASE.value};UID={USERNAME.value};PWD={PASSWORD.value}'\n",
    "conn = pyodbc.connect(connectionString) \n",
    "\n",
    "cursor = conn.cursor()\n",
    "\n",
    "query = '''\n",
    "SELECT COUNT(*) AS reviews_count, YEAR(date) AS date_year \n",
    "FROM jonnathan_costa_review jcr \n",
    "GROUP BY YEAR(date) \n",
    "ORDER BY YEAR(date) ASC;\n",
    "\n",
    "'''\n",
    "cursor.execute(query)\n",
    "\n",
    "rows = cursor.fetchall()\n",
    "\n",
    "columns = [column[0] for column in cursor.description]\n",
    "\n",
    "reviews_by_year = pd.DataFrame.from_records(rows, columns=columns)"
   ]
  },
  {
   "cell_type": "code",
   "execution_count": 15,
   "metadata": {},
   "outputs": [
    {
     "data": {
      "text/html": [
       "<div>\n",
       "<style scoped>\n",
       "    .dataframe tbody tr th:only-of-type {\n",
       "        vertical-align: middle;\n",
       "    }\n",
       "\n",
       "    .dataframe tbody tr th {\n",
       "        vertical-align: top;\n",
       "    }\n",
       "\n",
       "    .dataframe thead th {\n",
       "        text-align: right;\n",
       "    }\n",
       "</style>\n",
       "<table border=\"1\" class=\"dataframe\">\n",
       "  <thead>\n",
       "    <tr style=\"text-align: right;\">\n",
       "      <th></th>\n",
       "      <th>reviews_count</th>\n",
       "      <th>date_year</th>\n",
       "    </tr>\n",
       "  </thead>\n",
       "  <tbody>\n",
       "    <tr>\n",
       "      <th>0</th>\n",
       "      <td>894</td>\n",
       "      <td>2005</td>\n",
       "    </tr>\n",
       "    <tr>\n",
       "      <th>1</th>\n",
       "      <td>3876</td>\n",
       "      <td>2006</td>\n",
       "    </tr>\n",
       "    <tr>\n",
       "      <th>2</th>\n",
       "      <td>15411</td>\n",
       "      <td>2007</td>\n",
       "    </tr>\n",
       "    <tr>\n",
       "      <th>3</th>\n",
       "      <td>48417</td>\n",
       "      <td>2008</td>\n",
       "    </tr>\n",
       "    <tr>\n",
       "      <th>4</th>\n",
       "      <td>74632</td>\n",
       "      <td>2009</td>\n",
       "    </tr>\n",
       "    <tr>\n",
       "      <th>5</th>\n",
       "      <td>139036</td>\n",
       "      <td>2010</td>\n",
       "    </tr>\n",
       "    <tr>\n",
       "      <th>6</th>\n",
       "      <td>231617</td>\n",
       "      <td>2011</td>\n",
       "    </tr>\n",
       "    <tr>\n",
       "      <th>7</th>\n",
       "      <td>287704</td>\n",
       "      <td>2012</td>\n",
       "    </tr>\n",
       "    <tr>\n",
       "      <th>8</th>\n",
       "      <td>385509</td>\n",
       "      <td>2013</td>\n",
       "    </tr>\n",
       "    <tr>\n",
       "      <th>9</th>\n",
       "      <td>524220</td>\n",
       "      <td>2014</td>\n",
       "    </tr>\n",
       "    <tr>\n",
       "      <th>10</th>\n",
       "      <td>691127</td>\n",
       "      <td>2015</td>\n",
       "    </tr>\n",
       "    <tr>\n",
       "      <th>11</th>\n",
       "      <td>761602</td>\n",
       "      <td>2016</td>\n",
       "    </tr>\n",
       "    <tr>\n",
       "      <th>12</th>\n",
       "      <td>822957</td>\n",
       "      <td>2017</td>\n",
       "    </tr>\n",
       "    <tr>\n",
       "      <th>13</th>\n",
       "      <td>908532</td>\n",
       "      <td>2018</td>\n",
       "    </tr>\n",
       "    <tr>\n",
       "      <th>14</th>\n",
       "      <td>907284</td>\n",
       "      <td>2019</td>\n",
       "    </tr>\n",
       "    <tr>\n",
       "      <th>15</th>\n",
       "      <td>554557</td>\n",
       "      <td>2020</td>\n",
       "    </tr>\n",
       "    <tr>\n",
       "      <th>16</th>\n",
       "      <td>618189</td>\n",
       "      <td>2021</td>\n",
       "    </tr>\n",
       "    <tr>\n",
       "      <th>17</th>\n",
       "      <td>31665</td>\n",
       "      <td>2022</td>\n",
       "    </tr>\n",
       "  </tbody>\n",
       "</table>\n",
       "</div>"
      ],
      "text/plain": [
       "    reviews_count  date_year\n",
       "0             894       2005\n",
       "1            3876       2006\n",
       "2           15411       2007\n",
       "3           48417       2008\n",
       "4           74632       2009\n",
       "5          139036       2010\n",
       "6          231617       2011\n",
       "7          287704       2012\n",
       "8          385509       2013\n",
       "9          524220       2014\n",
       "10         691127       2015\n",
       "11         761602       2016\n",
       "12         822957       2017\n",
       "13         908532       2018\n",
       "14         907284       2019\n",
       "15         554557       2020\n",
       "16         618189       2021\n",
       "17          31665       2022"
      ]
     },
     "execution_count": 15,
     "metadata": {},
     "output_type": "execute_result"
    }
   ],
   "source": [
    "reviews_by_year.head(20)"
   ]
  },
  {
   "cell_type": "code",
   "execution_count": 33,
   "metadata": {},
   "outputs": [
    {
     "data": {
      "image/png": "[encoded data removed]",
      "text/plain": [
       "<Figure size 1800x300 with 1 Axes>"
      ]
     },
     "metadata": {},
     "output_type": "display_data"
    }
   ],
   "source": [
    "plt.figure(figsize=(18,3))\n",
    "sns.lineplot(data=reviews_by_year, x='date_year', y='reviews_count')\n",
    "plt.title('Avaliações ao longo dos anos')\n",
    "plt.ylabel('Ano')\n",
    "plt.ylabel('Número de Avaliações')\n",
    "_ = plt.xticks(ticks=[i for i in range(2005,2023)])"
   ]
  },
  {
   "cell_type": "markdown",
   "metadata": {},
   "source": [
    "Ao analisar o gráfico, vemos uma crescente nas avaliações. Em 2020 vemos uma queda vertiginosa e uma tendência decrescente desde então. Cabe atentar ao fato de que a quantidade de reviews pode estar atrelada às visitas físicas aos estabelecimentos, que foram severamente comprometidas com a pandemia de Covid-19. Sendo os dados disponíveis até parte de 2022, não conseguimos inferir se no período pós-pandemia houve uma nova crescente."
   ]
  },
  {
   "cell_type": "markdown",
   "metadata": {},
   "source": [
    "### Analisando a distribuição de estrelas\n",
    "\n",
    "Ao contar a quantidade de avaliações com uma determinada nota, podemos entender melhor o significado das avaliações bem como identificar comportamentos dos usuários em relação à avaliação. "
   ]
  },
  {
   "cell_type": "code",
   "execution_count": 12,
   "metadata": {},
   "outputs": [],
   "source": [
    "connectionString = f'DRIVER={{ODBC Driver 18 for SQL Server}};SERVER={SERVER.value};DATABASE={DATABASE.value};UID={USERNAME.value};PWD={PASSWORD.value}'\n",
    "conn = pyodbc.connect(connectionString) \n",
    "\n",
    "cursor = conn.cursor()\n",
    "\n",
    "query = '''\n",
    "SELECT COUNT(*) AS reviews_count, stars\n",
    "FROM jonnathan_costa_review jcr \n",
    "GROUP BY stars \n",
    "ORDER BY stars ASC; \n",
    "\n",
    "'''\n",
    "\n",
    "cursor.execute(query)\n",
    "\n",
    "rows = cursor.fetchall()\n",
    "\n",
    "columns = [column[0] for column in cursor.description]\n",
    "\n",
    "stars_distribution = pd.DataFrame.from_records(rows, columns=columns)"
   ]
  },
  {
   "cell_type": "code",
   "execution_count": 13,
   "metadata": {},
   "outputs": [
    {
     "data": {
      "text/html": [
       "<div>\n",
       "<style scoped>\n",
       "    .dataframe tbody tr th:only-of-type {\n",
       "        vertical-align: middle;\n",
       "    }\n",
       "\n",
       "    .dataframe tbody tr th {\n",
       "        vertical-align: top;\n",
       "    }\n",
       "\n",
       "    .dataframe thead th {\n",
       "        text-align: right;\n",
       "    }\n",
       "</style>\n",
       "<table border=\"1\" class=\"dataframe\">\n",
       "  <thead>\n",
       "    <tr style=\"text-align: right;\">\n",
       "      <th></th>\n",
       "      <th>reviews_count</th>\n",
       "      <th>stars</th>\n",
       "    </tr>\n",
       "  </thead>\n",
       "  <tbody>\n",
       "    <tr>\n",
       "      <th>0</th>\n",
       "      <td>1071380</td>\n",
       "      <td>1</td>\n",
       "    </tr>\n",
       "    <tr>\n",
       "      <th>1</th>\n",
       "      <td>545544</td>\n",
       "      <td>2</td>\n",
       "    </tr>\n",
       "    <tr>\n",
       "      <th>2</th>\n",
       "      <td>693854</td>\n",
       "      <td>3</td>\n",
       "    </tr>\n",
       "    <tr>\n",
       "      <th>3</th>\n",
       "      <td>1457289</td>\n",
       "      <td>4</td>\n",
       "    </tr>\n",
       "    <tr>\n",
       "      <th>4</th>\n",
       "      <td>3239162</td>\n",
       "      <td>5</td>\n",
       "    </tr>\n",
       "  </tbody>\n",
       "</table>\n",
       "</div>"
      ],
      "text/plain": [
       "   reviews_count  stars\n",
       "0        1071380      1\n",
       "1         545544      2\n",
       "2         693854      3\n",
       "3        1457289      4\n",
       "4        3239162      5"
      ]
     },
     "execution_count": 13,
     "metadata": {},
     "output_type": "execute_result"
    }
   ],
   "source": [
    "stars_distribution.head()"
   ]
  },
  {
   "cell_type": "code",
   "execution_count": 17,
   "metadata": {},
   "outputs": [
    {
     "data": {
      "text/plain": [
       "Text(0, 0.5, 'Número de Avaliações')"
      ]
     },
     "execution_count": 17,
     "metadata": {},
     "output_type": "execute_result"
    },
    {
     "data": {
      "image/png": "[encoded data removed]",
      "text/plain": [
       "<Figure size 1200x300 with 1 Axes>"
      ]
     },
     "metadata": {},
     "output_type": "display_data"
    }
   ],
   "source": [
    "plt.figure(figsize=(12,3))\n",
    "sns.barplot(data=stars_distribution, x='stars', y='reviews_count')\n",
    "plt.title('Distribuição por Estrelas')\n",
    "plt.ylabel('Número de Avaliações')"
   ]
  },
  {
   "cell_type": "markdown",
   "metadata": {},
   "source": [
    "Sobre a distribuição de estrelas, vemos uma forte presença de avaliações de 1 estrela. Isso pode se dar devido ao possível caráter subjetivo de atribuir apenas uma estrela à um mserviço que não lhe agrada, lê-se, idependente se o serviço foi pouco ineficiente ou muito desagradável, a opção por atribuir 1 estrela parece atrair os avaliadores mais do que 2 ou 3. Note que a as três opções de nota mais comuns são 5, 4 e 1 estrela. "
   ]
  },
  {
   "cell_type": "markdown",
   "metadata": {},
   "source": [
    "### Análise de sentimento usando Vader"
   ]
  },
  {
   "cell_type": "code",
   "execution_count": null,
   "metadata": {},
   "outputs": [],
   "source": [
    "import nltk\n",
    "nltk.download('vader_lexicon')"
   ]
  },
  {
   "cell_type": "code",
   "execution_count": 20,
   "metadata": {},
   "outputs": [],
   "source": [
    "import math\n",
    "from nltk.sentiment.vader import SentimentIntensityAnalyzer\n",
    "\n",
    "analyzer = SentimentIntensityAnalyzer()"
   ]
  },
  {
   "cell_type": "code",
   "execution_count": 15,
   "metadata": {},
   "outputs": [],
   "source": [
    "connectionString = f'DRIVER={{ODBC Driver 18 for SQL Server}};SERVER={SERVER.value};DATABASE={DATABASE.value};UID={USERNAME.value};PWD={PASSWORD.value}'\n",
    "conn = pyodbc.connect(connectionString) \n",
    "\n",
    "cursor = conn.cursor()\n",
    "\n",
    "query = '''\n",
    "SELECT text, stars\n",
    "FROM jonnathan_costa_review\n",
    "'''\n",
    "\n",
    "cursor.execute(query)\n",
    "\n",
    "rows = cursor.fetchall()\n",
    "\n",
    "columns = [column[0] for column in cursor.description]\n",
    "\n",
    "reviews = pd.DataFrame.from_records(rows, columns=columns)"
   ]
  },
  {
   "cell_type": "markdown",
   "metadata": {},
   "source": [
    "Para entender a correlação entre estrelas e o score atribuído aos comentários sobre a empresa, selecionamos 10% dos dados de forma aletória, e vamos atribuir um score para cada comentário usando o analyzer.\n",
    "\n",
    "Vamos mapear o score do comentário para que o score esteja entre 1 e 5 como as estrelas, plotar os gráficos lado a lado e calcular a correlação entre as variáveis stars e score."
   ]
  },
  {
   "cell_type": "code",
   "execution_count": 16,
   "metadata": {},
   "outputs": [],
   "source": [
    "reviews_10_percent = reviews.sample(frac=0.1, axis=0)"
   ]
  },
  {
   "cell_type": "code",
   "execution_count": 21,
   "metadata": {},
   "outputs": [],
   "source": [
    "reviews_10_percent['score'] = reviews_10_percent['text'].apply(lambda x: analyzer.polarity_scores(x)['compound'])"
   ]
  },
  {
   "cell_type": "code",
   "execution_count": 22,
   "metadata": {},
   "outputs": [
    {
     "data": {
      "text/html": [
       "<div>\n",
       "<style scoped>\n",
       "    .dataframe tbody tr th:only-of-type {\n",
       "        vertical-align: middle;\n",
       "    }\n",
       "\n",
       "    .dataframe tbody tr th {\n",
       "        vertical-align: top;\n",
       "    }\n",
       "\n",
       "    .dataframe thead th {\n",
       "        text-align: right;\n",
       "    }\n",
       "</style>\n",
       "<table border=\"1\" class=\"dataframe\">\n",
       "  <thead>\n",
       "    <tr style=\"text-align: right;\">\n",
       "      <th></th>\n",
       "      <th>text</th>\n",
       "      <th>stars</th>\n",
       "      <th>score</th>\n",
       "    </tr>\n",
       "  </thead>\n",
       "  <tbody>\n",
       "    <tr>\n",
       "      <th>349560</th>\n",
       "      <td>Our 1st visit there and it was amazing. It wil...</td>\n",
       "      <td>5</td>\n",
       "      <td>0.7088</td>\n",
       "    </tr>\n",
       "    <tr>\n",
       "      <th>4849591</th>\n",
       "      <td>I love the big rink, friendly knowledgeable an...</td>\n",
       "      <td>5</td>\n",
       "      <td>0.9360</td>\n",
       "    </tr>\n",
       "    <tr>\n",
       "      <th>5170204</th>\n",
       "      <td>We eat here all.the.time and it's super delish...</td>\n",
       "      <td>4</td>\n",
       "      <td>0.9037</td>\n",
       "    </tr>\n",
       "    <tr>\n",
       "      <th>450378</th>\n",
       "      <td>I have been shopping with Linda's Stuff for ye...</td>\n",
       "      <td>5</td>\n",
       "      <td>0.6222</td>\n",
       "    </tr>\n",
       "    <tr>\n",
       "      <th>2609878</th>\n",
       "      <td>We drove by and saw the \"now open\" sign. I was...</td>\n",
       "      <td>4</td>\n",
       "      <td>0.8932</td>\n",
       "    </tr>\n",
       "  </tbody>\n",
       "</table>\n",
       "</div>"
      ],
      "text/plain": [
       "                                                      text  stars   score\n",
       "349560   Our 1st visit there and it was amazing. It wil...      5  0.7088\n",
       "4849591  I love the big rink, friendly knowledgeable an...      5  0.9360\n",
       "5170204  We eat here all.the.time and it's super delish...      4  0.9037\n",
       "450378   I have been shopping with Linda's Stuff for ye...      5  0.6222\n",
       "2609878  We drove by and saw the \"now open\" sign. I was...      4  0.8932"
      ]
     },
     "execution_count": 22,
     "metadata": {},
     "output_type": "execute_result"
    }
   ],
   "source": [
    "reviews_10_percent.head()"
   ]
  },
  {
   "cell_type": "code",
   "execution_count": 23,
   "metadata": {},
   "outputs": [],
   "source": [
    "#função de um mapa linear do score do comentário de [-1,1] para [1,5] para que o intervalo seja igual e possamos comparar com clareza\n",
    "def score_to_star(score):\n",
    "    return math.floor(2.5*score + 3.5)"
   ]
  },
  {
   "cell_type": "code",
   "execution_count": 24,
   "metadata": {},
   "outputs": [],
   "source": [
    "score = reviews_10_percent.score\n",
    "score = score.apply(score_to_star) "
   ]
  },
  {
   "cell_type": "markdown",
   "metadata": {},
   "source": [
    "#### Comparação da distribuição de scores e stars"
   ]
  },
  {
   "cell_type": "code",
   "execution_count": 43,
   "metadata": {},
   "outputs": [
    {
     "data": {
      "image/png": "[encoded data removed]",
      "text/plain": [
       "<Figure size 1600x1000 with 2 Axes>"
      ]
     },
     "metadata": {},
     "output_type": "display_data"
    }
   ],
   "source": [
    "plt.subplots(2, 1, figsize=(16, 10))\n",
    "\n",
    "plt.subplot(2,1,1)\n",
    "sns.lineplot(data=score.value_counts())\n",
    "_ = plt.ylabel('Contagem de Score')\n",
    "\n",
    "plt.subplot(2,1,2)\n",
    "sns.lineplot(data=stars_distribution, x='stars', y='reviews_count')\n",
    "_ = plt.ylabel('Contagem de Stars')\n",
    "\n",
    "plt.show()"
   ]
  },
  {
   "cell_type": "code",
   "execution_count": 30,
   "metadata": {},
   "outputs": [
    {
     "data": {
      "text/plain": [
       "Text(0.5, 1.0, 'Correlação entre Stars e Scores')"
      ]
     },
     "execution_count": 30,
     "metadata": {},
     "output_type": "execute_result"
    },
    {
     "data": {
      "image/png": "[encoded data removed]",
      "text/plain": [
       "<Figure size 640x480 with 2 Axes>"
      ]
     },
     "metadata": {},
     "output_type": "display_data"
    }
   ],
   "source": [
    "sns.heatmap(reviews_10_percent.corr(numeric_only=True), annot=True)\n",
    "plt.title('Correlação entre Stars e Scores')"
   ]
  },
  {
   "cell_type": "markdown",
   "metadata": {},
   "source": [
    "Supondo a eficiência das ferramentas da biblioteca Vader, podemos ver que existe uma coerência nos reviews escritos quando relacionados com as estrelas dadas pelos usuários. Uma nota alta tem uma alta correlação positiva com um comentário positivo, como era de se esperar. Podemos notar isso também ao olhar para a distribuição de estrelas vs. a distribuição das notas atribuídas aos comentários. "
   ]
  }
 ],
 "metadata": {
  "kernelspec": {
   "display_name": "eng",
   "language": "python",
   "name": "python3"
  },
  "language_info": {
   "codemirror_mode": {
    "name": "ipython",
    "version": 3
   },
   "file_extension": ".py",
   "mimetype": "text/x-python",
   "name": "python",
   "nbconvert_exporter": "python",
   "pygments_lexer": "ipython3",
   "version": "3.12.7"
  }
 },
 "nbformat": 4,
 "nbformat_minor": 2
}
